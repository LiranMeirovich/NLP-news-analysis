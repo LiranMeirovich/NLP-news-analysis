{
 "cells": [
  {
   "cell_type": "markdown",
   "id": "a743211a-4156-416c-8215-b740784d4ca4",
   "metadata": {},
   "source": [
    "Download data using instagram's API"
   ]
  },
  {
   "cell_type": "code",
   "execution_count": null,
   "id": "eaa933d6-01e3-4bf3-b134-ea4506f735d3",
   "metadata": {},
   "outputs": [],
   "source": [
    "import csv\n",
    "#from instagram_rivate_api import Client, ClientCompatPatch\n",
    "import datetime\n",
    "\n",
    "Part 1 - data scraping\n",
    "def get_instagram_posts_descriptions(username, num_posts, user, password):\n",
    "   # Authenticate with the Instagram API\n",
    "   api = Client(user, password)\n",
    "\n",
    "   # Get the user ID\n",
    "   user_info = api.username_info(username)\n",
    "   user_id = user_info['user']['pk']\n",
    "\n",
    "   # Get user feed\n",
    "   posts = []\n",
    "   results = api.user_feed(user_id)\n",
    "   posts.extend(results.get('items', []))\n",
    "\n",
    "   # Keep fetching more posts until we have enough or there are no more posts\n",
    "   next_max_id = results.get('next_max_id')\n",
    "   while len(posts) < num_posts and next_max_id:\n",
    "       results = api.user_feed(user_id, max_id=next_max_id)\n",
    "       posts.extend(results.get('items', []))\n",
    "       next_max_id = results.get('next_max_id')\n",
    "\n",
    "   # Extract descriptions and timestamps, then save to CSV\n",
    "   with open(f'{username}_posts.csv', 'w', newline='', encoding='utf-8') as csvfile:\n",
    "       fieldnames = ['description', 'timestamp']\n",
    "       writer = csv.DictWriter(csvfile, fieldnames=fieldnames)\n",
    "       writer.writeheader()\n",
    "\n",
    "       for post in posts[:num_posts]:\n",
    "           description = post['caption']['text'] if 'caption' in post and post['caption'] else ''\n",
    "           timestamp = datetime.datetime.fromtimestamp(post['taken_at']).strftime('%Y-%m-%d %H:%M:%S')\n",
    "           writer.writerow({'description': description, 'timestamp': timestamp})\n",
    "\n",
    "username = 'guardian'\n",
    "num_posts = 2500\n",
    "user = '' #Needs to be filled with fective instagram user\n",
    "password = ''\n",
    "get_instagram_posts_descriptions(username, num_posts, user, password)"
   ]
  },
  {
   "cell_type": "markdown",
   "id": "272f665a-5150-435d-8d60-01cea0fcb8cd",
   "metadata": {},
   "source": [
    "Clean the data and save it into a new cleaned file"
   ]
  },
  {
   "cell_type": "code",
   "execution_count": null,
   "id": "61dbf6f8-6cbd-4932-b9b3-364879ae8009",
   "metadata": {},
   "outputs": [],
   "source": [
    "import pandas as pd\n",
    "import re\n",
    "\n",
    "\n",
    "def clean_description(text):\n",
    "    # Remove all non-alphabetical and non-numerical symbols\n",
    "    cleaned_text = re.sub(r'[^A-Za-z0-9\\s]', '', text)\n",
    "    return cleaned_text\n",
    "\n",
    "\n",
    "def clean_csv(file_name):\n",
    "    # Read the input CSV file\n",
    "    df = pd.read_csv(file_name)\n",
    "\n",
    "    # Check if the 'description' column exists\n",
    "    if 'description' not in df.columns:\n",
    "        print(f\"'description' column not found in {file_name}\")\n",
    "        return\n",
    "\n",
    "    # Apply cleaning to the 'description' column\n",
    "    df['cleaned_description'] = df['description'].apply(clean_description)\n",
    "\n",
    "    # Save the results to a new CSV file\n",
    "    output_file_name = 'cleaned_' + file_name.split('/')[-1]\n",
    "    df.to_csv(output_file_name, index=False)\n",
    "    print(f\"Cleaned data saved to {output_file_name}\")\n",
    "\n"
   ]
  }
 ],
 "metadata": {
  "kernelspec": {
   "display_name": "Python 3 (ipykernel)",
   "language": "python",
   "name": "python3"
  },
  "language_info": {
   "codemirror_mode": {
    "name": "ipython",
    "version": 3
   },
   "file_extension": ".py",
   "mimetype": "text/x-python",
   "name": "python",
   "nbconvert_exporter": "python",
   "pygments_lexer": "ipython3",
   "version": "3.12.5"
  }
 },
 "nbformat": 4,
 "nbformat_minor": 5
}
